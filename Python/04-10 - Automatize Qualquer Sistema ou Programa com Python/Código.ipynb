{
 "cells": [
  {
   "cell_type": "code",
   "execution_count": 1,
   "metadata": {},
   "outputs": [],
   "source": [
    "import pyautogui\n",
    "import time\n",
    "\n",
    "pyautogui.alert(\"Por favor, não mexa no seu teclado e mouse enquanto o código está rodando. Obrigado\")\n",
    "pyautogui.PAUSE = 0.5  # Este número em segs é utilizado para dar um \"tempo\" entre a execução de cada linha do código\n",
    "\n",
    "# step 1\n",
    "# step 2\n",
    "# step 3"
   ]
  },
  {
   "cell_type": "code",
   "execution_count": null,
   "metadata": {},
   "outputs": [],
   "source": [
    "import pyautogui\n",
    "import time\n",
    "\n",
    "pyautogui.confirm(\"Por favor, não mexa no seu teclado e mouse enquanto o código está rodando. Obrigado.\")\n",
    "pyautogui.PAUSE = 1  # Este número em segs é utilizado para dar um \"tempo\" entre a execução de cada linha do código\n",
    "\n",
    "# abrir o Chrome\n",
    "pyautogui.press('winleft')\n",
    "pyautogui.write('chrome')\n",
    "pyautogui.press('enter')\n",
    "# abrir o webmail\n",
    "pyautogui.write('http://webmail.itdm.org.br')\n",
    "pyautogui.press('enter')\n",
    "time.sleep(1)\n",
    "# logar\n",
    "pyautogui.moveTo(960, 369)\n",
    "pyautogui.click()\n",
    "pyautogui.press('down')\n",
    "pyautogui.press('enter')"
   ]
  },
  {
   "cell_type": "markdown",
   "metadata": {},
   "source": [
    "# Lista de comandos possíveis em:\n",
    "https://pyautogui.readthedocs.io/en/latest/quickstart.html\n",
    "\n",
    "### Alguns de antemão:\n",
    "- time.sleep(1) <br>\n",
    "Executa um número em segs, o qual é utilizado para dar um \"tempo\" a mais antes de executar outra linha\n",
    "- pyautogui.hotkey('winleft', 'd') <br>\n",
    "Executa uma combinação de teclas\n",
    "- pyautogui.moveTo(x, y) <br>\n",
    "Move o cursor do mouse à uma posição selecionada em x e y na sua tela (para saber a posição, utilizar 'pyautogui.position()')\n",
    "- pyautogui.mouseDown() <br>\n",
    "Aperta o mouse (por padrão, no botão esquerdo)\n",
    "- pyautogui.mouseUp() <br>\n",
    "Para de pressionar o botão do mouse"
   ]
  }
 ],
 "metadata": {
  "interpreter": {
   "hash": "eb5b9a3a9e75c1aad0e4b9d8ebb2ea7d7b952cc41b78c7468ceb7e35bad293bc"
  },
  "kernelspec": {
   "display_name": "Python 3.10.0 64-bit",
   "language": "python",
   "name": "python3"
  },
  "language_info": {
   "codemirror_mode": {
    "name": "ipython",
    "version": 3
   },
   "file_extension": ".py",
   "mimetype": "text/x-python",
   "name": "python",
   "nbconvert_exporter": "python",
   "pygments_lexer": "ipython3",
   "version": "3.10.0"
  },
  "orig_nbformat": 4
 },
 "nbformat": 4,
 "nbformat_minor": 2
}
